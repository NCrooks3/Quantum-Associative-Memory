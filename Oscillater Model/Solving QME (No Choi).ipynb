{
 "cells": [
  {
   "cell_type": "code",
   "execution_count": 2,
   "id": "1bbe89a8-9abb-4eca-94e8-0b3a6c3d234a",
   "metadata": {},
   "outputs": [
    {
     "name": "stdout",
     "output_type": "stream",
     "text": [
      "Requirement already satisfied: qutip in /opt/anaconda3/lib/python3.12/site-packages (5.1.1)\n",
      "Requirement already satisfied: numpy>=1.22 in /opt/anaconda3/lib/python3.12/site-packages (from qutip) (1.26.4)\n",
      "Requirement already satisfied: scipy>=1.9 in /opt/anaconda3/lib/python3.12/site-packages (from qutip) (1.13.1)\n",
      "Requirement already satisfied: packaging in /opt/anaconda3/lib/python3.12/site-packages (from qutip) (24.1)\n",
      "@misc{qutip5,\n",
      "  title = {{QuTiP} 5: The Quantum Toolbox in {Python}},\n",
      "  author = {Lambert, Neill and Giguère, Eric and Menczel, Paul and Li, Boxi\n",
      "    and Hopf, Patrick and Suárez, Gerardo and Gali, Marc and Lishman, Jake\n",
      "    and Gadhvi, Rushiraj and Agarwal, Rochisha and Galicia, Asier\n",
      "    and Shammah, Nathan and Nation, Paul D. and Johansson, J. R.\n",
      "    and Ahmed, Shahnawaz and Cross, Simon and Pitchford, Alexander\n",
      "    and Nori, Franco},\n",
      "  year={2024},\n",
      "  eprint={2412.04705},\n",
      "  archivePrefix={arXiv},\n",
      "  primaryClass={quant-ph},\n",
      "  url={https://arxiv.org/abs/2412.04705},\n",
      "  doi={10.48550/arXiv.2412.04705},\n",
      "}\n"
     ]
    }
   ],
   "source": [
    "!pip install qutip\n",
    "import qutip as qt\n",
    "\n",
    "qt.cite()"
   ]
  },
  {
   "cell_type": "code",
   "execution_count": null,
   "id": "f96adcb3-3ff0-4227-a190-2881761cd4cc",
   "metadata": {},
   "outputs": [
    {
     "name": "stdout",
     "output_type": "stream",
     "text": [
      "(400, 400)\n",
      "10.0%. Run time:   0.02s. Est. time left: 00:00:00:00\n",
      "20.0%. Run time:   0.10s. Est. time left: 00:00:00:00\n",
      "30.0%. Run time:   0.18s. Est. time left: 00:00:00:00\n",
      "40.0%. Run time:   0.34s. Est. time left: 00:00:00:00\n",
      "50.0%. Run time:   0.75s. Est. time left: 00:00:00:00\n",
      "60.0%. Run time:   1.95s. Est. time left: 00:00:00:01\n",
      "70.0%. Run time:   5.90s. Est. time left: 00:00:00:02\n"
     ]
    }
   ],
   "source": [
    "import numpy as np\n",
    "import matplotlib.pyplot as plt\n",
    "import qutip as qt\n",
    "import random \n",
    "import scipy\n",
    "from scipy.linalg import expm, sinm, cosm\n",
    "from qutip import *\n",
    "\n",
    "k = 4\n",
    "m = 4\n",
    "systemSize = 20\n",
    "\n",
    "#Defining operators \n",
    "a = qt.destroy(systemSize)\n",
    "aM = a**m\n",
    "\n",
    "aDagger = qt.create(systemSize)\n",
    "aDaggerM = aDagger**m\n",
    "\n",
    "n_hat = aDagger* a\n",
    "M_joint = (aDagger**m)*(a**m)\n",
    "identity = qt.qeye(systemSize)\n",
    "\n",
    "#Defining parameters \n",
    "gamma1 = 1\n",
    "gammaM = gamma1/10\n",
    "delta = 0.4 * gamma1\n",
    "eta = 0.5\n",
    "theta = 0\n",
    "\n",
    "\n",
    "#Creating random initial coherent state to start in\n",
    "alpha_re = random.random() * random.choice([-1, 1])\n",
    "alpha_im = random.random() * random.choice([-1, 1])\n",
    "alpha = alpha_re + alpha_im*1j\n",
    "rho0 = qt.coherent_dm(systemSize, alpha)\n",
    "\n",
    "#Starting in Fock state \n",
    "\n",
    "rho0 = qt.fock_dm(systemSize, 1) \n",
    "\n",
    "\n",
    "\n",
    "Hamiltonian = (delta * n_hat) + (1j * eta) * (a**k * np.exp(1j * theta * k) - aDagger**k * np.exp(-1j * theta * k))\n",
    "c_ops = [np.sqrt(gamma1) * a, np.sqrt(gammaM) * aM] \n",
    "L = qt.liouvillian(Hamiltonian, c_ops, data_only=False, chi=None)\n",
    "\n",
    "print(L.shape)\n",
    "\n",
    "#Time we span through of state \n",
    "time_list = np.logspace(-2, 3, 10000)\n",
    "\n",
    "options = qt.Options(nsteps=20000, progress_bar=True)\n",
    "\n",
    "result = qt.mesolve(L, rho0, time_list, options=options)\n",
    "\n",
    "plt.plot(time_list, expect(a, result.states), label=r'Re$\\langle a \\rangle$',color = 'red')\n",
    "plt.xlabel('Time')\n",
    "plt.ylabel(r'$\\langle a \\rangle$')\n",
    "plt.figure()\n",
    "#plt.plot(time_list,  expect(rho0[0,0], result.states))\n",
    "#plt.xlabel('Time')\n",
    "#plt.ylabel(r'$\\rho_{00}$ population')\n",
    "#plt.show()"
   ]
  },
  {
   "cell_type": "code",
   "execution_count": null,
   "id": "6890e9c1-cb3e-4c21-8de8-5c15a8e1c7c8",
   "metadata": {},
   "outputs": [],
   "source": [
    "P0 = qt.fock_dm(systemSize, 0)  # Projector for ground state |0><0|\n",
    "P1 = qt.fock_dm(systemSize, 1)  # Projector for first excited state |1><1|\n",
    "P2 = qt.fock_dm(systemSize, 2)\n",
    "P4 = qt.fock_dm(systemSize, 4)\n",
    "P8 = qt.fock_dm(systemSize, 8)\n",
    "\n",
    "\n",
    "pop0 = [qt.expect(P0, state) for state in result.states]  # Population of |0><0|\n",
    "pop1 = [qt.expect(P1, state) for state in result.states]  # Population of |1><1|\n",
    "pop2 = [qt.expect(P2, state) for state in result.states]  # Population of |1><1|\n",
    "pop4 = [qt.expect(P4, state) for state in result.states]  # Population of |4<4|\n",
    "pop8 = [qt.expect(P8, state) for state in result.states]  # Population of |8><8|\n",
    "\n",
    "import matplotlib.pyplot as plt\n",
    "\n",
    "plt.plot(time_list, pop0, label=r'$\\rho_{00}$')\n",
    "plt.plot(time_list, pop1, label=r'$\\rho_{11}$')\n",
    "plt.plot(time_list, pop2, label=r'$\\rho_{22}$')\n",
    "plt.plot(time_list, pop4, label=r'$\\rho_{44}$')\n",
    "plt.plot(time_list, pop8, label=r'$\\rho_{88}$')\n",
    "plt.xlabel('Time')\n",
    "plt.ylabel('Population')\n",
    "plt.legend()\n",
    "plt.xscale('log')  # Since time_list is in logspace\n",
    "plt.show()"
   ]
  },
  {
   "cell_type": "code",
   "execution_count": null,
   "id": "1f409e82-5f09-462d-b626-2b301ee9352d",
   "metadata": {},
   "outputs": [],
   "source": []
  }
 ],
 "metadata": {
  "kernelspec": {
   "display_name": "Python 3 (ipykernel)",
   "language": "python",
   "name": "python3"
  },
  "language_info": {
   "codemirror_mode": {
    "name": "ipython",
    "version": 3
   },
   "file_extension": ".py",
   "mimetype": "text/x-python",
   "name": "python",
   "nbconvert_exporter": "python",
   "pygments_lexer": "ipython3",
   "version": "3.12.7"
  }
 },
 "nbformat": 4,
 "nbformat_minor": 5
}
