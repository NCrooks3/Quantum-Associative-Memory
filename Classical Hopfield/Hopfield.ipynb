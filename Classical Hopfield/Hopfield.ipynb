{
 "cells": [
  {
   "cell_type": "code",
   "execution_count": 128,
   "id": "afe38f13-3fce-49cf-91f2-e7ad48beb809",
   "metadata": {},
   "outputs": [
    {
     "data": {
      "image/png": "[encoded data removed]",
      "text/plain": [
       "<Figure size 640x480 with 1 Axes>"
      ]
     },
     "metadata": {},
     "output_type": "display_data"
    }
   ],
   "source": [
    "import numpy as np\n",
    "import matplotlib.pyplot as plt\n",
    "import random \n",
    "\n",
    "# Parameters\n",
    "J = 1.0     # Coupling constant\n",
    "b = 1.0     # Inverse temperature (beta)\n",
    "n = 41\n",
    "N = n**2   # System size\n",
    "\n",
    "#creating initial random configuration\n",
    "\n",
    "s = np.zeros([n,n])\n",
    "\n",
    "for i in range(0,n):\n",
    "    for j in range(0,n):\n",
    "        a = random.randint(0,1)  #randomly assigns spin up or down with 50/50 chance for each\n",
    "        if a == 0:\n",
    "            s[i, j] = -1\n",
    "        else:\n",
    "            s[i, j] = 1\n",
    "\n",
    "# Shows initial random pattern  \n",
    "plt.imshow(s,cmap = 'grey')\n",
    "\n",
    "\n",
    "\n",
    "pattern = np.zeros([n,n])\n"
   ]
  },
  {
   "cell_type": "code",
   "execution_count": 130,
   "id": "5c9098ba-da99-4adf-872a-6ffc0f1be8ce",
   "metadata": {},
   "outputs": [
    {
     "data": {
      "image/png": "[encoded data removed]",
      "text/plain": [
       "<Figure size 1000x500 with 2 Axes>"
      ]
     },
     "metadata": {},
     "output_type": "display_data"
    },
    {
     "name": "stdout",
     "output_type": "stream",
     "text": [
      "-0.0529446757882213\n",
      "-89\n"
     ]
    }
   ],
   "source": [
    "import numpy as np\n",
    "\n",
    "def create_swiss_flag(n):\n",
    "    # Ensure n is odd\n",
    "    if n % 2 == 0:\n",
    "        raise ValueError(\"n must be an odd number to properly center the cross.\")\n",
    "    \n",
    "    # Create the flag with black given by (-1)\n",
    "    flag = -np.ones((n, n), dtype=int)\n",
    "    \n",
    "    # Defining the dimensions of the cross\n",
    "    cross_width = n // 5  # Width of the cross arms\n",
    "    vertical_length = n // 2  # Length of the vertical arm\n",
    "    horizontal_length = n * 3 // 5  # Length of the horizontal arm\n",
    "    \n",
    "    # Calculate the starting and ending indices for the cross\n",
    "    vertical_start = (n - vertical_length) // 2\n",
    "    vertical_end = vertical_start + vertical_length\n",
    "    horizontal_start = (n - horizontal_length) // 2\n",
    "    horizontal_end = horizontal_start + horizontal_length\n",
    "    \n",
    "    # Fill the vertical arm of the cross (white)\n",
    "    flag[vertical_start:vertical_end, (n - cross_width) // 2 : (n + cross_width) // 2] = 1\n",
    "    \n",
    "    # Fill the horizontal arm of the cross (white)\n",
    "    flag[(n - cross_width) // 2 : (n + cross_width) // 2, horizontal_start:horizontal_end] = 1\n",
    "    \n",
    "    return flag\n",
    "\n",
    "# Example usage\n",
    "n = 41  # Size of the flag (must be odd)\n",
    "swiss_flag = create_swiss_flag(n)\n",
    "pattern_1 = swiss_flag.copy()\n",
    "\n",
    "\n",
    "def create_vertical_lines(n, line_width=3, spacing=3):\n",
    "  \n",
    "    # Create the background (-1 for black)\n",
    "    pattern = -np.ones((n, n), dtype=int)\n",
    "    \n",
    "    # Draw vertical lines\n",
    "    for x in range(0, n, line_width + spacing):\n",
    "        pattern[:, x:x + line_width] = 1  # Set pixels to white (1)\n",
    "    \n",
    "    return pattern\n",
    "\n",
    "# Example usage\n",
    "n = 41  # Size of the pattern (must be odd for symmetry)\n",
    "pattern_2 = create_vertical_lines(n)\n",
    "\n",
    "\n",
    "# Display the patterns\n",
    "\n",
    "# Create a figure with two subplots side by side\n",
    "plt.figure(figsize=(10, 5))  # Adjust the figure size as needed\n",
    "\n",
    "# Plot the Swiss flag pattern\n",
    "plt.subplot(1, 2, 1)  # 1 row, 2 columns, first subplot\n",
    "plt.imshow(pattern_1, cmap='gray')\n",
    "plt.title(\"Swiss Flag\")\n",
    "plt.axis('off')  # Hide axes\n",
    "\n",
    "# Plot the vertical striped pattern\n",
    "plt.subplot(1, 2, 2)  # 1 row, 2 columns, second subplot\n",
    "plt.imshow(pattern_2, cmap='gray')\n",
    "plt.title(\"Vertical stripes\")\n",
    "plt.axis('off')  # Hide axes\n",
    "\n",
    "# Show the figure\n",
    "plt.tight_layout()  # Adjust spacing between subplots\n",
    "plt.show()\n",
    "\n",
    "\n",
    "    \n",
    "overlap_12 = 0 \n",
    "for i in range(pattern_1.shape[0]):\n",
    "    for j in range(pattern_2.shape[1]):\n",
    "        overlap_12 += pattern_1[i,j]*pattern_2[i,j]\n",
    "        \n",
    "print(overlap_12/N)\n",
    "print(overlap_12)"
   ]
  },
  {
   "cell_type": "code",
   "execution_count": 132,
   "id": "0e9326ee-bb7b-4cee-a839-ce4aaeff3561",
   "metadata": {},
   "outputs": [],
   "source": [
    "Connectivity_Matrix = np.zeros([n,n,n,n])\n",
    "\n",
    "\n",
    "\n",
    "\n",
    "for i in range(n):\n",
    "    for j in range(n):\n",
    "        for k in range(n):\n",
    "            for l in range(n):\n",
    "                if i == k and j == l:\n",
    "                    Connectivity_Matrix[i,j,k,l] = 0\n",
    "                else:\n",
    "                    Connectivity_Matrix[i,j,k,l] = (pattern_1[i,j]*pattern_1[k,l] + pattern_2[i,j]*pattern_2[k,l])/N\n",
    "        \n"
   ]
  },
  {
   "cell_type": "code",
   "execution_count": 134,
   "id": "a2208b93-79a2-4f11-b0e4-5e1f61ddf5b6",
   "metadata": {},
   "outputs": [
    {
     "name": "stdout",
     "output_type": "stream",
     "text": [
      "402744\n",
      "1410601\n",
      "1012416\n",
      "1.0\n"
     ]
    }
   ],
   "source": [
    "b_neg = 0 \n",
    "b_0 = 0 \n",
    "b_pos = 0 \n",
    "for i in range(n):\n",
    "    for j in range(n):\n",
    "        for k in range(n):\n",
    "            for l in range(n):\n",
    "                a = Connectivity_Matrix[i,j,k,l]\n",
    "                if a < 0:\n",
    "                    b_neg+=1\n",
    "                elif a == 0:\n",
    "                     b_0+=1\n",
    "                else:\n",
    "                     b_pos+=1\n",
    "                     \n",
    "print(b_neg)\n",
    "print(b_0)\n",
    "print(b_pos)\n",
    "\n",
    "C = (b_neg + b_0 + b_pos )/n**4\n",
    "print(C)"
   ]
  },
  {
   "cell_type": "code",
   "execution_count": 136,
   "id": "39009e33-265d-4544-b2e6-40ec0f673585",
   "metadata": {},
   "outputs": [
    {
     "name": "stdout",
     "output_type": "stream",
     "text": [
      "(41, 41, 41, 41)\n"
     ]
    }
   ],
   "source": [
    "print(Connectivity_Matrix.shape)"
   ]
  },
  {
   "cell_type": "code",
   "execution_count": 140,
   "id": "29c15919-2291-45b6-bc98-91642d7d990c",
   "metadata": {},
   "outputs": [
    {
     "name": "stdout",
     "output_type": "stream",
     "text": [
      "-0.03807257584770966\n"
     ]
    }
   ],
   "source": [
    "def Hopfield_Hamiltonian(n):\n",
    "    H = 0\n",
    "    for i in range(n):\n",
    "        for j in range(n):\n",
    "            for k in range(n):\n",
    "                for l in range(n):\n",
    "                    if i == k and j == l:\n",
    "                        term = 0\n",
    "                    else: \n",
    "                        term = -0.5* Connectivity_Matrix[i,j,k,l] * s[i,j]*s[k,l]\n",
    "                    H += term \n",
    "    return H \n",
    "energy = Hopfield_Hamiltonian(n)\n",
    "print(energy)"
   ]
  },
  {
   "cell_type": "code",
   "execution_count": null,
   "id": "97721583-2b76-4edb-9e3d-8c5d1baaebfd",
   "metadata": {},
   "outputs": [],
   "source": []
  }
 ],
 "metadata": {
  "kernelspec": {
   "display_name": "Python 3 (ipykernel)",
   "language": "python",
   "name": "python3"
  },
  "language_info": {
   "codemirror_mode": {
    "name": "ipython",
    "version": 3
   },
   "file_extension": ".py",
   "mimetype": "text/x-python",
   "name": "python",
   "nbconvert_exporter": "python",
   "pygments_lexer": "ipython3",
   "version": "3.12.7"
  }
 },
 "nbformat": 4,
 "nbformat_minor": 5
}
